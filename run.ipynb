{
 "cells": [
  {
   "cell_type": "code",
   "execution_count": 1,
   "id": "ebc6c0a8-f91b-4d75-be38-7139f4e92f44",
   "metadata": {},
   "outputs": [],
   "source": [
    "import matplotlib.pyplot as plt\n",
    "import numpy as np\n",
    "%load_ext autoreload\n",
    "%autoreload 2"
   ]
  },
  {
   "cell_type": "markdown",
   "id": "850eecc4-d0e3-47bc-8425-c661db0d6fd8",
   "metadata": {},
   "source": [
    "# Loading data from train.csv and remove aberant colomns"
   ]
  },
  {
   "cell_type": "code",
   "execution_count": 3,
   "id": "cd067152-ea62-48c3-a515-b6e8d03f539f",
   "metadata": {},
   "outputs": [],
   "source": [
    "from proj1_helpers import load_csv_data, standardize, build_model_data\n",
    "\n",
    "yb, input_data, ids = load_csv_data(\"../train.csv\")\n",
    "x, mean_x, std_x = standardize(input_data)\n",
    "y, tx = build_model_data(x, yb)"
   ]
  },
  {
   "cell_type": "markdown",
   "id": "540618c0-b727-4a4b-8857-98a3f4a346d5",
   "metadata": {},
   "source": [
    "# Optimize the hyperparameters"
   ]
  },
  {
   "cell_type": "code",
   "execution_count": 4,
   "id": "28757ee7-46e3-483f-bee2-5b89ff2b2b82",
   "metadata": {},
   "outputs": [],
   "source": [
    "max_iters = 100\n",
    "Dim = tx.shape[1]\n",
    "initial_w = np.zeros(Dim)"
   ]
  },
  {
   "cell_type": "code",
   "execution_count": 5,
   "id": "dc23c593-bd22-486e-ae55-5b2587f2737f",
   "metadata": {},
   "outputs": [
    {
     "name": "stdout",
     "output_type": "stream",
     "text": [
      "Best gamma = 0.01, training_loss = 0.3646066799260904, test_loss = 0.36591018945808057\n",
      "Best gamma = 1.5848931924611143e-08, training_loss = 0.45479348394849256, test_loss = 0.4491503816454452\n",
      "Best gamma = 0.01, training_loss = -0.2892873015387077, test_loss = -0.2812119570689253\n",
      "Best lambda = 1e-08, training_loss = 0.34008618217151904, test_loss = 0.34008618217151904\n",
      "Best lambda = 0.01, training_loss = -5.89647264818179, test_loss = -5.89647264818179\n"
     ]
    }
   ],
   "source": [
    "import tuning_plotting as tp\n",
    "\n",
    "best_gamma_gd=tp.best_gamma_selection_gd(y, tx, max_iters)\n",
    "best_gamma_sgd=tp.best_gamma_selection_sgd(y, tx, max_iters)\n",
    "best_gamma_log=tp.best_gamma_selection(y, tx, max_iters)\n",
    "\n",
    "best_lambda_ridge=tp.best_lambda_selection_ridge(y, tx, max_iters)\n",
    "best_lambda_lg=tp.best_lambda_selection_logistic(y, tx, max_iters, best_gamma_log) #assume similar gammas"
   ]
  },
  {
   "cell_type": "markdown",
   "id": "3f1a1cba-15f0-4a96-81a1-71b95ac855c4",
   "metadata": {},
   "source": [
    "## Apply models and compare"
   ]
  },
  {
   "cell_type": "code",
   "execution_count": 6,
   "id": "631218f8-5c20-4036-8494-01bcd1a84020",
   "metadata": {},
   "outputs": [],
   "source": [
    "from proj1_helpers import compare_result, predict_labels\n",
    "import implementations as impl"
   ]
  },
  {
   "cell_type": "code",
   "execution_count": 7,
   "id": "1523570e-01d1-4b90-8461-10f5c9ba7df7",
   "metadata": {},
   "outputs": [
    {
     "name": "stdout",
     "output_type": "stream",
     "text": [
      "0.01\n",
      "percent of good results : 72.4768 %\n"
     ]
    }
   ],
   "source": [
    "gd_w, gd_losses = impl.mean_squared_error_gd(y, tx, initial_w, max_iters, best_gamma_gd)\n",
    "y_gd = predict_labels(gd_w, tx)\n",
    "print(best_gamma_gd)\n",
    "ratio = compare_result(y_gd, y)\n",
    "print(\"percent of good results :\", ratio*100, \"%\")"
   ]
  },
  {
   "cell_type": "code",
   "execution_count": 8,
   "id": "18da6b6b-dd26-463b-9f80-4d9708af00e0",
   "metadata": {},
   "outputs": [
    {
     "name": "stdout",
     "output_type": "stream",
     "text": [
      "percent of good results : 70.9352 %\n"
     ]
    }
   ],
   "source": [
    "sgd_w, sgd_losses = impl.mean_squared_error_sgd(y, tx, initial_w, max_iters, best_gamma_sgd)\n",
    "y_sgd = predict_labels(sgd_w, tx)\n",
    "\n",
    "ratio = compare_result(y_sgd, y)\n",
    "print(\"percent of good results :\", ratio*100, \"%\")"
   ]
  },
  {
   "cell_type": "code",
   "execution_count": 9,
   "id": "3e024f2c-36fe-407f-9c86-50fdfdabe2fc",
   "metadata": {},
   "outputs": [
    {
     "name": "stdout",
     "output_type": "stream",
     "text": [
      "percent of good results : 74.4648 %\n"
     ]
    }
   ],
   "source": [
    "ridge_w, ridge_losses = impl.ridge_regression(y, tx, best_lambda_ridge)\n",
    "y_ridge = predict_labels(ridge_w, tx)\n",
    "\n",
    "ratio = compare_result(y_ridge, y)\n",
    "print(\"percent of good results :\", ratio*100, \"%\")"
   ]
  },
  {
   "cell_type": "code",
   "execution_count": 10,
   "id": "6cdf3e9d-5a49-4ef3-9d69-b89b92c8797b",
   "metadata": {},
   "outputs": [
    {
     "name": "stdout",
     "output_type": "stream",
     "text": [
      "percent of good results : 71.782 %\n"
     ]
    }
   ],
   "source": [
    "log_w, log_losses = impl.logistic_regression(y, tx, initial_w, max_iters, best_gamma_log)\n",
    "y_log = predict_labels(log_w, tx)\n",
    "\n",
    "ratio = compare_result(y_log, y)\n",
    "print(\"percent of good results :\", ratio*100, \"%\")"
   ]
  },
  {
   "cell_type": "code",
   "execution_count": 11,
   "id": "6ea48fa4-d0e3-4e93-adcf-1c7df5d00ba1",
   "metadata": {},
   "outputs": [
    {
     "name": "stdout",
     "output_type": "stream",
     "text": [
      "percent of good results : 71.544 %\n"
     ]
    }
   ],
   "source": [
    "lg_w, lg_losses = impl.reg_logistic_regression(y, tx, best_lambda_lg, initial_w, max_iters, best_gamma_log)\n",
    "y_lg = predict_labels(lg_w, tx)\n",
    "\n",
    "ratio = compare_result(y_lg, y)\n",
    "print(\"percent of good results :\", ratio*100, \"%\")"
   ]
  },
  {
   "cell_type": "code",
   "execution_count": 12,
   "id": "d01fdd95-584c-4de0-8217-10abc77c9111",
   "metadata": {},
   "outputs": [
    {
     "name": "stdout",
     "output_type": "stream",
     "text": [
      "percent of good results : 74.46000000000001 %\n"
     ]
    }
   ],
   "source": [
    "ls_w, ls_losses = impl.least_squares(y, tx)\n",
    "y_ls = predict_labels(ls_w, tx)\n",
    "\n",
    "ratio = compare_result(y_ls, y)\n",
    "print(\"percent of good results :\", ratio*100, \"%\")"
   ]
  },
  {
   "cell_type": "markdown",
   "id": "489c028b-0ba6-4b5e-8ad3-bd898a086c14",
   "metadata": {},
   "source": [
    "# Plots"
   ]
  },
  {
   "cell_type": "code",
   "execution_count": 24,
   "id": "c9a7f10e-a44e-4159-ad3f-d3bc9ba8d048",
   "metadata": {},
   "outputs": [],
   "source": [
    "import tuning_plotting as tp"
   ]
  },
  {
   "cell_type": "code",
   "execution_count": 18,
   "id": "b7561dc6-7bc9-4bc4-8532-745f4970a6d5",
   "metadata": {},
   "outputs": [
    {
     "data": {
      "image/png": "[encoded data removed]",
      "text/plain": [
       "<Figure size 432x288 with 2 Axes>"
      ]
     },
     "metadata": {
      "needs_background": "light"
     },
     "output_type": "display_data"
    }
   ],
   "source": [
    "tp.heatmap_corrolation(tx)"
   ]
  },
  {
   "cell_type": "code",
   "execution_count": 22,
   "id": "12afdf69-1dec-4679-bea7-984cfe0e8f86",
   "metadata": {},
   "outputs": [
    {
     "data": {
      "image/png": "[encoded data removed]",
      "text/plain": [
       "<Figure size 432x288 with 1 Axes>"
      ]
     },
     "metadata": {
      "needs_background": "light"
     },
     "output_type": "display_data"
    }
   ],
   "source": [
    "# tp.boxplot_outlier_three(input_data, see_c1=1, see_c2=2, see_c3=10)\n",
    "tp.plot_histogram(input_data, col=5)"
   ]
  },
  {
   "cell_type": "markdown",
   "id": "f7814330-9bad-4318-bc73-a49326290805",
   "metadata": {},
   "source": [
    "# Use model obtained with train.csv with test.csv "
   ]
  },
  {
   "cell_type": "code",
   "execution_count": 19,
   "id": "c25ea683-0c04-483d-a0d7-d246711faa5c",
   "metadata": {},
   "outputs": [],
   "source": [
    "from proj1_helpers import load_csv_data, standardize, build_model_data\n",
    "\n",
    "yb, data, ids = load_csv_data(\"../test.csv\")\n",
    "x, mean_x, std_x = standardize(data)\n",
    "y, tx = build_model_data(x, yb)"
   ]
  },
  {
   "cell_type": "markdown",
   "id": "caaed405-d456-453d-9b5e-b42759b045c0",
   "metadata": {},
   "source": [
    "## create submission"
   ]
  },
  {
   "cell_type": "code",
   "execution_count": 20,
   "id": "fef45137-cbd8-43bd-b4b1-3f7d8b5adaea",
   "metadata": {},
   "outputs": [],
   "source": [
    "from proj1_helpers import predict_labels, create_csv_submission"
   ]
  },
  {
   "cell_type": "code",
   "execution_count": null,
   "id": "193cd757-231a-400f-a0b2-69a0c5998cd3",
   "metadata": {},
   "outputs": [],
   "source": [
    "# gradient descent\n",
    "y_model = predict_labels(gd_w, tx)\n",
    "create_csv_submission(ids, y_model, \"CSV_gradient_descent.csv\")"
   ]
  },
  {
   "cell_type": "code",
   "execution_count": null,
   "id": "f9f0073d-2182-4a01-aca3-93c16a091164",
   "metadata": {},
   "outputs": [],
   "source": [
    "# SGD\n",
    "y_model = predict_labels(sgd_w, tx)\n",
    "create_csv_submission(ids, y_model, \"CSV_SGD.csv\")"
   ]
  },
  {
   "cell_type": "code",
   "execution_count": null,
   "id": "d729fc09-3b81-4a30-943e-0450743c1a0a",
   "metadata": {},
   "outputs": [],
   "source": [
    "# least squares\n",
    "y_model = predict_labels(ls_w, tx)\n",
    "create_csv_submission(ids, y_model, \"CSV_least_squares.csv\")"
   ]
  },
  {
   "cell_type": "code",
   "execution_count": 13,
   "id": "ad433125-6aa0-4230-8482-6bbde580df88",
   "metadata": {},
   "outputs": [],
   "source": [
    "# ridge\n",
    "y_model = predict_labels(ridge_w, tx)\n",
    "create_csv_submission(ids, y_model, \"CSV_ridge_regression.csv\")"
   ]
  },
  {
   "cell_type": "code",
   "execution_count": 13,
   "id": "4c42ea64-8194-4c0a-b435-9907e52995c4",
   "metadata": {},
   "outputs": [],
   "source": [
    "# logistic regression\n",
    "y_model = predict_labels(log_w, tx)\n",
    "create_csv_submission(ids, y_model, \"CSV_logistic_regression.csv\")"
   ]
  },
  {
   "cell_type": "code",
   "execution_count": 21,
   "id": "6281c6bc-027a-41e0-8388-6e730835e0a8",
   "metadata": {},
   "outputs": [],
   "source": [
    "# reg logistic\n",
    "y_model = predict_labels(lg_w, tx)\n",
    "create_csv_submission(ids, y_model, \"CSV_reg_logistic_regression.csv\")"
   ]
  },
  {
   "cell_type": "code",
   "execution_count": null,
   "id": "e95e0c58-d579-4c4d-be60-46ec9e40314d",
   "metadata": {},
   "outputs": [],
   "source": []
  }
 ],
 "metadata": {
  "kernelspec": {
   "display_name": "Python 3 (ipykernel)",
   "language": "python",
   "name": "python3"
  },
  "language_info": {
   "codemirror_mode": {
    "name": "ipython",
    "version": 3
   },
   "file_extension": ".py",
   "mimetype": "text/x-python",
   "name": "python",
   "nbconvert_exporter": "python",
   "pygments_lexer": "ipython3",
   "version": "3.9.7"
  }
 },
 "nbformat": 4,
 "nbformat_minor": 5
}
